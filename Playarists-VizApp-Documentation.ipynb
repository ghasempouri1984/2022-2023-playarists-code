{
 "cells": [
  {
   "attachments": {},
   "cell_type": "markdown",
   "metadata": {},
   "source": [
    "# Playarists VizApp Documentation"
   ]
  },
  {
   "attachments": {},
   "cell_type": "markdown",
   "metadata": {},
   "source": [
    "This documentation provides a brief overview of a Streamlit application that visualizes data related to ERIH Plus journals and their coverage in the OpenCitations Meta dataset. The app includes various visualizations to explore publication coverage, open access status, publications by country and discipline, and more.\n",
    "\n",
    "You can access it and run it: https://ghasempouri1984-2022-2023-playarists-code-streamlit-app-1aspl5.streamlit.app/"
   ]
  },
  {
   "attachments": {},
   "cell_type": "markdown",
   "metadata": {},
   "source": [
    "### Deployment"
   ]
  },
  {
   "attachments": {},
   "cell_type": "markdown",
   "metadata": {},
   "source": [
    "The Streamlit app has been deployed using Streamlit.io, providing a user-friendly interface for interacting with the visualizations. Users can access the app by visiting the Streamlit app URL.\n",
    "\n"
   ]
  },
  {
   "attachments": {},
   "cell_type": "markdown",
   "metadata": {},
   "source": [
    "### Visualizations\n"
   ]
  },
  {
   "attachments": {},
   "cell_type": "markdown",
   "metadata": {},
   "source": [
    "The Streamlit app includes the following visualizations:\n",
    "\n",
    "1. **ERIH Plus Journals in OC Meta Coverage:** This visualization displays the coverage of ERIH Plus journals in the OpenCitations Meta dataset. It showcases the percentage of journals covered in the dataset and those not included.\n",
    "\n",
    "2. **Open Access Status:** This visualization presents the open access status of the journals. It shows the distribution of journals based on their open access status.\n",
    "\n",
    "3. **Publications by Country:** This visualization demonstrates the number of publications by country using a choropleth map. Users can explore the publication count for different countries.\n",
    "\n",
    "4. **Publications by Country (Top 30):** This visualization focuses on the top 30 countries with the highest publication counts. It presents the publication count for each country using a bar chart.\n",
    "\n",
    "5. **Journals by Country (Top 30):** This visualization highlights the top 30 countries with the highest number of journals. It visualizes the journal count for each country using a bar chart.\n",
    "\n",
    "6. **Publications by Country (Last 30):** This visualization showcases the publication counts for the last 30 countries with lower publication numbers. It uses a bar chart to represent the data.\n",
    "\n",
    "7. **Journals by Country (Last 30):** This visualization highlights the journal counts for the last 30 countries with fewer journals. It presents the data using a bar chart.\n",
    "\n",
    "8. **Publications by Discipline:** This visualization illustrates the number of publications by discipline. It showcases the publication count for different disciplines using a bar chart."
   ]
  },
  {
   "attachments": {},
   "cell_type": "markdown",
   "metadata": {},
   "source": [
    "**Please note that the visualizations utilize data from the countries.csv and disciplines.csv files. Ensure that these files are present and accessible to the Streamlit app for proper visualization generation.**"
   ]
  },
  {
   "cell_type": "code",
   "execution_count": null,
   "metadata": {},
   "outputs": [],
   "source": []
  }
 ],
 "metadata": {
  "language_info": {
   "name": "python"
  },
  "orig_nbformat": 4
 },
 "nbformat": 4,
 "nbformat_minor": 2
}
